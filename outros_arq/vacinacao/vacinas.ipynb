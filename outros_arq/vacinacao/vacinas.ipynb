{
 "cells": [
  {
   "cell_type": "markdown",
   "metadata": {},
   "source": [
    "##Introdução##\n",
    "\n",
    "Os dados contêm as seguintes informações:\n",
    "\n",
    "País - este é o país para o qual as informações de vacinação são fornecidas;\n",
    "Código ISO do país - código ISO para o país;\n",
    "Data - data para a entrada de dados; para algumas das datas, temos apenas as vacinações diárias, para outras, apenas o total (cumulativo);\n",
    "Número total de vacinações - este é o número absoluto de imunizações totais no país;\n",
    "Número total de pessoas vacinadas - uma pessoa, dependendo do esquema de imunização, receberá uma ou mais (normalmente 2) vacinas; em um determinado momento, o número de vacinações pode ser maior do que o número de pessoas;\n",
    "Número total de pessoas totalmente vacinadas - este é o número de pessoas que receberam todo o conjunto de imunizações de acordo com o esquema de imunização (normalmente 2); em um determinado momento, pode haver um certo número de pessoas que receberam uma vacina e outro número (menor) de pessoas que receberam todas as vacinas no esquema;\n",
    "Vacinações diárias (brutas) - para uma determinada entrada de dados, o número de vacinações para aquela data/país;\n",
    "Vacinações diárias - para uma determinada entrada de dados, o número de vacinações para aquela data/país;\n",
    "Total de vacinações por cem - razão (em porcentagem) entre o número de vacinações e a população total até a data no país;\n",
    "Número total de pessoas vacinadas por cem - razão (em porcentagem) entre a população imunizada e a população total até a data no país;\n",
    "Número total de pessoas totalmente vacinadas por cem - razão (em porcentagem) entre a população totalmente imunizada e a população total até a data no país;\n",
    "Número de vacinações por dia - número de vacinações diárias para aquele dia e país;\n",
    "Vacinações diárias por milhão - razão (em ppm) entre o número de vacinações e a população total para a data atual no país;\n",
    "Vacinas usadas no país - número total de vacinas usadas no país (atualizado);\n",
    "Nome da fonte - fonte da informação (autoridade nacional, organização internacional, organização local etc.);\n",
    "Site da fonte - site da fonte da informação;"
   ]
  },
  {
   "cell_type": "code",
   "execution_count": null,
   "metadata": {},
   "outputs": [],
   "source": [
    "\n",
    "import numpy as np\n",
    "import pandas as pd \n",
    "import matplotlib.pyplot as plt\n",
    "import seaborn as sns \n",
    "import plotly.graph_objs as go\n",
    "import plotly.figure_factory as ff\n",
    "from plotly import tools\n",
    "from plotly.offline import download_plotlyjs, init_notebook_mode, plot, iplot\n",
    "import plotly.express as px\n",
    "init_notebook_mode(connected=True)\n",
    "import warnings\n",
    "warnings.filterwarnings(\"ignore\")"
   ]
  },
  {
   "cell_type": "code",
   "execution_count": null,
   "metadata": {},
   "outputs": [],
   "source": [
    "data_df = pd.read_csv(\"country_vaccinations.csv\")"
   ]
  },
  {
   "cell_type": "code",
   "execution_count": null,
   "metadata": {},
   "outputs": [],
   "source": [
    "country_vaccine = data_df.groupby([\"country\", \"iso_code\", \"vaccines\"])[['total_vaccinations', \n",
    "                                                                       'total_vaccinations_per_hundred',\n",
    "                                                                      'daily_vaccinations',\n",
    "                                                                      'daily_vaccinations_per_million',\n",
    "                                                                      'people_vaccinated',\n",
    "                                                                      'people_vaccinated_per_hundred',\n",
    "                                                                       'people_fully_vaccinated', 'people_fully_vaccinated_per_hundred'\n",
    "]].max().reset_index()\n",
    "country_vaccine.columns = [\"Country\", \"iso_code\", \"Vaccines\", \"Total vaccinations\", \"Percent\", \"Daily vaccinations\", \n",
    "                           \"Daily vaccinations per million\", \"People vaccinated\", \"People vaccinated per hundred\",\n",
    "                           'People fully vaccinated', 'People fully vaccinated percent']"
   ]
  },
  {
   "cell_type": "markdown",
   "metadata": {},
   "source": [
    "Quais vacinas são usadas em cada país?"
   ]
  },
  {
   "cell_type": "code",
   "execution_count": null,
   "metadata": {},
   "outputs": [],
   "source": [
    "vaccines = country_vaccine.Vaccines.unique()\n",
    "for v in vaccines:\n",
    "    countries = country_vaccine.loc[country_vaccine.Vaccines==v, 'Country'].values\n",
    "    print(f\"Vaccines: {v}: \\nCountries: {list(countries)}\\n\")"
   ]
  },
  {
   "cell_type": "code",
   "execution_count": null,
   "metadata": {},
   "outputs": [],
   "source": [
    "fig = px.choropleth(locations=country_vaccine['Country'], \n",
    "                    locationmode=\"country names\",\n",
    "                    color=country_vaccine['Vaccines'],\n",
    "                    title=\"Countries using each vaccine (different colors for each vaccine)\",\n",
    "                    height = 800\n",
    "                   )\n",
    "fig.update_layout({'legend_orientation':'v'})\n",
    "fig.update_layout({'legend_title':'Vaccine scheme'})\n",
    "fig.show()"
   ]
  },
  {
   "cell_type": "markdown",
   "metadata": {},
   "source": [
    "Qual esquema de vacinação é mais utilizado?"
   ]
  },
  {
   "cell_type": "code",
   "execution_count": null,
   "metadata": {},
   "outputs": [],
   "source": [
    "vaccine = data_df.groupby([\"vaccines\"])[['total_vaccinations','total_vaccinations_per_hundred',\n",
    "                                         'daily_vaccinations','daily_vaccinations_per_million']].max().reset_index()\n",
    "\n",
    "\n",
    "vaccine.columns = [\"Vaccines\", \"Total vaccinations\", \"Percent\", \"Daily vaccinations\", \n",
    "                           \"Daily vaccinations per million\"]\n",
    "def draw_trace_bar_vaccine(data, feature, title, xlab, ylab,color='Blue'):\n",
    "    data = data.sort_values(feature, ascending=False)\n",
    "    trace = go.Bar(\n",
    "            x = data['Vaccines'],\n",
    "            y = data[feature],\n",
    "            marker=dict(color=color),\n",
    "            text=data['Vaccines']\n",
    "        )\n",
    "    data = [trace]\n",
    "\n",
    "    layout = dict(title = title,\n",
    "              xaxis = dict(title = xlab, showticklabels=True, tickangle=45, \n",
    "                           zeroline=True, zerolinewidth=1, zerolinecolor='grey',\n",
    "                           showline=True, linewidth=2, linecolor='black', mirror=True,\n",
    "                          tickfont=dict(\n",
    "                            size=10,\n",
    "                            color='black'),), \n",
    "              yaxis = dict(title = ylab, gridcolor='lightgrey', zeroline=True, zerolinewidth=1, zerolinecolor='grey',\n",
    "                          showline=True, linewidth=2, linecolor='black', mirror=True),\n",
    "              plot_bgcolor = 'rgba(0, 0, 0, 0)', paper_bgcolor = 'rgba(0, 0, 0, 0)',\n",
    "              hovermode = 'closest',\n",
    "              height = 800\n",
    "             )\n",
    "    fig = dict(data = data, layout = layout)\n",
    "    iplot(fig, filename='draw_trace')\n",
    "    \n",
    "   "
   ]
  },
  {
   "cell_type": "code",
   "execution_count": null,
   "metadata": {},
   "outputs": [],
   "source": [
    " draw_trace_bar_vaccine(vaccine, 'Total vaccinations', 'Total per vaccine scheme', 'Vaccine', 'Vaccination total', \"darkmagenta\" )"
   ]
  },
  {
   "cell_type": "markdown",
   "metadata": {},
   "source": [
    "Alguns países estão usando um esquema de vacinação misto (eles estão usando mais de uma vacina).\n",
    "\n",
    "O mapeamento é o seguinte:\n",
    "\n",
    "Moderna, Pfizer/BioNTech - EUA;\n",
    "CNBG, Sinovac - China;\n",
    "Oxford/AstraZeneca, Pfizer/BioNTech', 'Pfizer/BioNTech - Reino Unido;\n",
    "Pfizer/BioNTech - principalmente UE;\n",
    "Pfizer/BioNTech, Sinopharm - Emirados Árabes Unidos;\n",
    "Sinovac - Turquia;\n",
    "Covaxin, Covishield - Índia;"
   ]
  },
  {
   "cell_type": "markdown",
   "metadata": {},
   "source": [
    "##Por países##\n",
    "Para ver a distribuição do esquema de vacinação por países, usaremos representações de mapa de árvore.\n",
    "\n",
    "Observamos as vacinações totais, os valores diários de vacinação, bem como o total de pessoas vacinadas.\n",
    "\n",
    "Observação: clique em um item de mapa de árvore para navegar pela estrutura da árvore e expandir o ramo atual."
   ]
  },
  {
   "cell_type": "code",
   "execution_count": null,
   "metadata": {},
   "outputs": [],
   "source": [
    "fig = px.treemap(country_vaccine, path = ['Vaccines', 'Country'], values = 'Total vaccinations',\n",
    "                title=\"Total vaccinations per country, grouped by vaccine scheme\")\n",
    "fig.show()"
   ]
  },
  {
   "cell_type": "markdown",
   "metadata": {},
   "source": [
    "##Quantos são vacinados (total e como porcentagem da população)?##\n",
    "Vamos olhar agora para as estatísticas dos países, independentemente do esquema de vacinação. Vamos olhar para o topo dos países por:\n",
    "\n",
    "Número total de vacinações;\n",
    "Porcentagem de vacinações de toda a população;\n",
    "Número diário de vacinações;\n",
    "Número diário de vacinação por milhão de população;\n",
    "Pessoas vacinadas;\n",
    "Porcentagem de pessoas vacinadas de toda a população."
   ]
  },
  {
   "cell_type": "code",
   "execution_count": null,
   "metadata": {},
   "outputs": [],
   "source": [
    "def draw_trace_bar(data, feature, title, xlab, ylab,color='Blue'):\n",
    "    data = data.sort_values(feature, ascending=False)\n",
    "    trace = go.Bar(\n",
    "            x = data['Country'],\n",
    "            y = data[feature],\n",
    "            marker=dict(color=color),\n",
    "            text=data['Country']\n",
    "        )\n",
    "    data = [trace]\n",
    "\n",
    "    layout = dict(title = title,\n",
    "              xaxis = dict(title = xlab, showticklabels=True, tickangle=45, \n",
    "                           zeroline=True, zerolinewidth=1, zerolinecolor='grey',\n",
    "                           showline=True, linewidth=2, linecolor='black', mirror=True,\n",
    "                          tickfont=dict(\n",
    "                            size=10,\n",
    "                            color='black'),), \n",
    "              yaxis = dict(title = ylab, gridcolor='lightgrey', zeroline=True, zerolinewidth=1, zerolinecolor='grey',\n",
    "                          showline=True, linewidth=2, linecolor='black', mirror=True),\n",
    "              plot_bgcolor = 'rgba(0, 0, 0, 0)', paper_bgcolor = 'rgba(0, 0, 0, 0)',\n",
    "              hovermode = 'closest'\n",
    "             )\n",
    "    fig = dict(data = data, layout = layout)\n",
    "    iplot(fig, filename='draw_trace')"
   ]
  },
  {
   "cell_type": "code",
   "execution_count": null,
   "metadata": {},
   "outputs": [],
   "source": [
    "draw_trace_bar(country_vaccine, 'Total vaccinations', 'Vaccination total per country', 'Country', 'Vaccination total', \"Darkgreen\" )"
   ]
  },
  {
   "cell_type": "code",
   "execution_count": null,
   "metadata": {},
   "outputs": [],
   "source": [
    "draw_trace_bar(country_vaccine, 'Percent', 'Vaccination percent per country', 'Country', 'Vaccination percent' )"
   ]
  },
  {
   "cell_type": "code",
   "execution_count": null,
   "metadata": {},
   "outputs": [],
   "source": [
    "country_vaccine_time = data_df[[\"country\", \"vaccines\", \"date\", 'total_vaccinations', \n",
    "                                'total_vaccinations_per_hundred',  'people_vaccinated','people_vaccinated_per_hundred',\n",
    "                               'daily_vaccinations','daily_vaccinations_per_million', \n",
    "                                'people_fully_vaccinated', 'people_fully_vaccinated_per_hundred'\n",
    "                               ]].dropna()\n",
    "country_vaccine_time.columns = [\"Country\", \"Vaccines\", \"Date\", 'Total vaccinations', 'Percent', 'People vaccinated', 'People percent',\n",
    "                               \"Daily vaccinations\", \"Daily vaccinations per million\", \n",
    "                                'People fully vaccinated', 'People fully vaccinated percent']"
   ]
  },
  {
   "cell_type": "code",
   "execution_count": null,
   "metadata": {},
   "outputs": [],
   "source": [
    "countries = ['Austria', 'Belgium', 'Bulgaria','Croatia', 'Cyprus', 'Czechia', 'Denmark', 'Estonia', 'Finland', 'France', 'Germany',\n",
    "             'Greece', 'Hungary', 'Ireland', 'Israel', 'Italy', 'Latvia','Lithuania', 'Luxembourg', 'Malta',\n",
    "             'Netherlands', 'Norway','Poland', 'Portugal', 'Romania', 'Serbia', 'Slovakia', 'Spain', 'Sweden',\n",
    "             'United Kingdom', 'United States', 'China']"
   ]
  },
  {
   "cell_type": "code",
   "execution_count": null,
   "metadata": {},
   "outputs": [],
   "source": [
    "def plot_time_variation_countries_group(data_df, feature, title, countries):\n",
    "    data = []\n",
    "    for country in countries:\n",
    "        df = data_df.loc[data_df.Country==country]\n",
    "        trace = go.Scatter(\n",
    "            x = df['Date'],y = df[feature],\n",
    "            name=country,\n",
    "            mode = \"markers+lines\",\n",
    "            marker_line_width = 1,\n",
    "            marker_size = 8,\n",
    "            marker_symbol = 'circle',\n",
    "            text=df['Country'])\n",
    "        data.append(trace)\n",
    "    layout = dict(title = title,\n",
    "          xaxis = dict(title = 'Date', showticklabels=True,zeroline=True, zerolinewidth=1, zerolinecolor='grey',\n",
    "                       showline=True, linewidth=2, linecolor='black', mirror=True,\n",
    "                       tickfont=dict(size=10,color='darkblue'),), \n",
    "          yaxis = dict(title = feature, gridcolor='lightgrey', zeroline=True, zerolinewidth=1, zerolinecolor='grey',\n",
    "                       showline=True, linewidth=2, linecolor='black', mirror=True, type=\"log\"),\n",
    "                       plot_bgcolor = 'rgba(0, 0, 0, 0)', paper_bgcolor = 'rgba(0, 0, 0, 0)',\n",
    "         hovermode = 'x', \n",
    "         height=800\n",
    "         )\n",
    "    fig = dict(data=data, layout=layout)\n",
    "    iplot(fig, filename='all_countries')"
   ]
  },
  {
   "cell_type": "code",
   "execution_count": null,
   "metadata": {},
   "outputs": [],
   "source": [
    "plot_time_variation_countries_group(country_vaccine_time, 'Percent', 'Total vaccination percent evolution (selected countries, log scale)', countries)"
   ]
  },
  {
   "cell_type": "code",
   "execution_count": null,
   "metadata": {},
   "outputs": [],
   "source": [
    "plot_time_variation_countries_group(country_vaccine_time, 'People fully vaccinated', 'People fully vaccinated evolution (selected countries, log scale)', countries)"
   ]
  }
 ],
 "metadata": {
  "kernelspec": {
   "display_name": ".venv",
   "language": "python",
   "name": "python3"
  },
  "language_info": {
   "codemirror_mode": {
    "name": "ipython",
    "version": 3
   },
   "file_extension": ".py",
   "mimetype": "text/x-python",
   "name": "python",
   "nbconvert_exporter": "python",
   "pygments_lexer": "ipython3",
   "version": "3.12.4"
  }
 },
 "nbformat": 4,
 "nbformat_minor": 2
}
