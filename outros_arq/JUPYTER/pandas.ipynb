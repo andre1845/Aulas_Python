{
 "cells": [
  {
   "cell_type": "markdown",
   "metadata": {},
   "source": [
    "## PANDAS - INTRODUÇÃO\n",
    "\n",
    "O Pandas é uma biblioteca para uso em Python, open-source e de uso gratuito (sob uma licença BSD), que fornece ferramentas para análise e manipulação de dados.\n",
    "\n",
    "De acordo com o próprio criador dessa biblioteca, Wes McKinney, o nome Pandas é derivado de *panel data* (dados em painel), um termo de econometria para conjuntos de dados estruturados. O surgimento da biblioteca, no início de 2008, começou devido a insatisfação de McKinney de obter uma ferramenta de processamento de dados de alto desempenho, com recursos flexíveis de manipulação de planilhas e de banco de dados relacionais.\n",
    "\n",
    "O pandas permite trabalhar com diferentes tipos de dados, por exemplo:\n",
    "\n",
    "    Dados tabulares, como uma planilha Excel ou uma tabela SQL;\n",
    "    Dados ordenados de modo temporal ou não;\n",
    "    Matrizes;\n",
    "    Qualquer outro conjunto de dados, que não necessariamente precisem estar rotulados;\n",
    " \n",
    "A mágica de ler, manipular, agregar e exibir os dados com poucos comandos explica porque a biblioteca tem se tornado tão popular. Aliás, tudo isso é possível devido às estruturas primárias do Pandas, as famosas Series e DataFrames.\n",
    "\n",
    "### Estrutura de Dados\n",
    " \n",
    "Os dois principais objetos da biblioteca Pandas são as **Series** e os **DataFrames**. Uma **Serie** é uma matriz unidimensional que contém uma sequência de valores que apresentam uma indexação (que podem ser numéricos inteiros ou rótulos), muito parecida com uma única coluna no Excel.\n",
    "\n",
    "Já o **DataFrame** é uma estrutura de dados tabular, semelhante a planilha de dados do Excel, em que tanto as linhas quanto as colunas apresentam rótulos.\n",
    "\n",
    "A partir dos objetos principais a biblioteca Pandas disponibiliza um conjunto de funcionalidades sofisticadas de indexação, que permite reformatar, manipular, agregar ou selecionar subconjuntos específicos dos dados que estamos trabalhando.\n",
    "\n",
    "### Instalando o Pandas Python\n",
    " \n",
    "Em geral a biblioteca Pandas pode ser instalada utilizando o comando pip, que é o gerenciador de pacotes do Python, no terminal de comando do ambiente de programação desejado, por meio da execução:\n"
   ]
  },
  {
   "cell_type": "code",
   "execution_count": null,
   "metadata": {},
   "outputs": [],
   "source": [
    "pip install pandas"
   ]
  },
  {
   "cell_type": "markdown",
   "metadata": {},
   "source": [
    "### Por onde começar?\n",
    "Depois da instalação é possível utilizar todos os recursos da biblioteca Pandas na versão escolhida. Que tal agora colocarmos um pouco de mão na massa e explorarmos um pouco das ferramentas dessa biblioteca?\n",
    "Para começar precisamos informar ao nosso ambiente de programação Python que queremos desfrutar das ferramentas de uma determinada biblioteca, no nosso caso o Pandas. \n",
    "Como podemos fazer isso? Importando o pacote para nosso ambiente, com o comando import:"
   ]
  },
  {
   "cell_type": "code",
   "execution_count": 5,
   "metadata": {},
   "outputs": [],
   "source": [
    "import pandas as pd"
   ]
  },
  {
   "cell_type": "markdown",
   "metadata": {},
   "source": [
    "Proximos passos:\n",
    "\n",
    "Pesquisar no site https://harve.com.br/blog/programacao-python-blog/pandas-python-vantagens-e-como-comecar/"
   ]
  }
 ],
 "metadata": {
  "kernelspec": {
   "display_name": ".venv",
   "language": "python",
   "name": "python3"
  },
  "language_info": {
   "codemirror_mode": {
    "name": "ipython",
    "version": 3
   },
   "file_extension": ".py",
   "mimetype": "text/x-python",
   "name": "python",
   "nbconvert_exporter": "python",
   "pygments_lexer": "ipython3",
   "version": "3.12.4"
  }
 },
 "nbformat": 4,
 "nbformat_minor": 2
}
